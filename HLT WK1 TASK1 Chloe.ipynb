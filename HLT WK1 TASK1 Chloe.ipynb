{
 "metadata": {
  "language_info": {
   "codemirror_mode": {
    "name": "ipython",
    "version": 3
   },
   "file_extension": ".py",
   "mimetype": "text/x-python",
   "name": "python",
   "nbconvert_exporter": "python",
   "pygments_lexer": "ipython3",
   "version": "3.9.5"
  },
  "orig_nbformat": 4,
  "kernelspec": {
   "name": "python3",
   "display_name": "Python 3.9.5 64-bit"
  },
  "interpreter": {
   "hash": "6cddd68f27a12e254e9db4a57d6c5fe81b25675a2dbc6183357214ba002192ac"
  }
 },
 "nbformat": 4,
 "nbformat_minor": 2,
 "cells": [
  {
   "cell_type": "code",
   "execution_count": 8,
   "metadata": {},
   "outputs": [
    {
     "output_type": "stream",
     "name": "stdout",
     "text": [
      "Chloe I am thinking of a number between 1 and 10, have a go at guessing the number!\n",
      "Sorry Chloe! That is not correct, better luck next time!\n"
     ]
    }
   ],
   "source": [
    "#using random and if \n",
    "\n",
    "input_name = input(\"Hi there, what is your name\")\n",
    "\n",
    "print(input_name, \"I am thinking of a number between 1 and 10, have a go at guessing the number!\")\n",
    "\n",
    "input_number = int(input(\"Enter a number between 1 and 10!\"))\n",
    "\n",
    "import random\n",
    "\n",
    "number = random.randint(1,10)\n",
    "\n",
    "if input_number == number:\n",
    "  print(\"Congratulations you guessed correctly!\")\n",
    "else:\n",
    "    print(\"Sorry\", input_name + \"!\", \"That is not correct, better luck next time!\")\n"
   ]
  }
 ]
}