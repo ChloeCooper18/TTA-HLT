{
 "metadata": {
  "language_info": {
   "codemirror_mode": {
    "name": "ipython",
    "version": 3
   },
   "file_extension": ".py",
   "mimetype": "text/x-python",
   "name": "python",
   "nbconvert_exporter": "python",
   "pygments_lexer": "ipython3",
   "version": "3.9.5"
  },
  "orig_nbformat": 4,
  "kernelspec": {
   "name": "python3",
   "display_name": "Python 3.9.5 64-bit"
  },
  "interpreter": {
   "hash": "6cddd68f27a12e254e9db4a57d6c5fe81b25675a2dbc6183357214ba002192ac"
  }
 },
 "nbformat": 4,
 "nbformat_minor": 2,
 "cells": [
  {
   "cell_type": "code",
   "execution_count": 5,
   "source": [
    "#table created in Python\r\n",
    "\r\n",
    "import pandas as pd \r\n",
    "\r\n",
    "destinations = {\"Destinations\": [\"France\", \"Spain\", \"Germany\", \"Italy\", \"Belgium\", \"Croatia\", \"Russia\", \"Portugal\", \"Austria\", \"Netherlands\", \"Denmark\", \"Poland\", \"Hungary\", \"Slovakia\", \"Turkey\"],\r\n",
    "\"Feedback\": [7, 8, 6, 7, 4, 10, 6, 3, 9, 1, 6, 9, 10, 6, 5],\r\n",
    "\"Average Rating\": [4, 2, 3, 5, 3, 5, 3, 2, 5, 2, 4, 3, 5, 3, 4],\r\n",
    "\"All Inclusive\": [1, 11, 12, 7, 9, 3, 8, 4, 15, 3, 9, 1, 2, 16, 11],\r\n",
    "\"Most Visited City\": [\"Paris\", \"Madrid\", \"Berlin\", \"Rome\", \"Brussels\", \"Dubrovnik\", \"Moscow\", \"Lisbon\", \"Vienna\", \"Amsterdam\", \"Copenhagen\", \"Warsaw\", \"Budapest\", \"Bratislava\", \"Istanbul\"]}\r\n",
    "\r\n",
    "myframe = pd.DataFrame(destinations)\r\n",
    "\r\n",
    "print(myframe)\r\n"
   ],
   "outputs": [
    {
     "output_type": "stream",
     "name": "stdout",
     "text": [
      "   Destinations  Feedback  Average Rating  All Inclusive Most Visited City\n",
      "0        France         7               4              1             Paris\n",
      "1         Spain         8               2             11            Madrid\n",
      "2       Germany         6               3             12            Berlin\n",
      "3         Italy         7               5              7              Rome\n",
      "4       Belgium         4               3              9          Brussels\n",
      "5       Croatia        10               5              3         Dubrovnik\n",
      "6        Russia         6               3              8            Moscow\n",
      "7      Portugal         3               2              4            Lisbon\n",
      "8       Austria         9               5             15            Vienna\n",
      "9   Netherlands         1               2              3         Amsterdam\n",
      "10      Denmark         6               4              9        Copenhagen\n",
      "11       Poland         9               3              1            Warsaw\n",
      "12      Hungary        10               5              2          Budapest\n",
      "13     Slovakia         6               3             16        Bratislava\n",
      "14       Turkey         5               4             11          Istanbul\n"
     ]
    }
   ],
   "metadata": {}
  },
  {
   "cell_type": "code",
   "execution_count": 88,
   "source": [
    "#CSV file created and imported into Python\r\n",
    "\r\n",
    "import pandas as pd \r\n",
    "\r\n",
    "holiday_destination = pd.read_csv(\"holiday_destination1.csv\")\r\n",
    "\r\n",
    "print(holiday_destination)"
   ],
   "outputs": [
    {
     "output_type": "stream",
     "name": "stdout",
     "text": [
      "   Destinations  Feed_back   Hotel_Rating  All_Inclusive Visited_City \n",
      "0        France           7             4              1         Paris\n",
      "1         Spain           8             2             11        Madrid\n",
      "2       Germany           6             3             12        Berlin\n",
      "3         Italy           7             5              7          Rome\n",
      "4       Belgium           4             3              9      Brussels\n",
      "5       Croatia          10             5              3     Dubrovnik\n",
      "6        Russia           6             3              8        Moscow\n",
      "7      Portugal           3             2              4        Lisbon\n",
      "8       Austria           9             5             15        Vienna\n",
      "9   Netherlands           1             2              3     Amsterdam\n",
      "10      Denmark           6             4              9    Copenhagen\n",
      "11       Poland           9             3              1        Warsaw\n",
      "12      Hungary          10             5              2      Budapest\n",
      "13     Slovakia           6             3             16    Bratislava\n",
      "14       Turkey           5             4             11      Istanbul\n"
     ]
    }
   ],
   "metadata": {}
  },
  {
   "cell_type": "code",
   "execution_count": 89,
   "source": [
    "#How many rows and columns are there in your file \r\n",
    "\r\n",
    "import pandas as pd \r\n",
    "\r\n",
    "holiday_destination = pd.read_csv(\"holiday_destination1.csv\")\r\n",
    "\r\n",
    "print(holiday_destination.shape)"
   ],
   "outputs": [
    {
     "output_type": "stream",
     "name": "stdout",
     "text": [
      "(15, 5)\n"
     ]
    }
   ],
   "metadata": {}
  },
  {
   "cell_type": "code",
   "execution_count": 91,
   "source": [
    "#print row 3-8 (using iloc/loc)\r\n",
    "\r\n",
    "import pandas as pd \r\n",
    "\r\n",
    "holiday_destination = pd.read_csv(\"holiday_destination1.csv\")\r\n",
    "\r\n",
    "print(holiday_destination.iloc[3:8]) "
   ],
   "outputs": [
    {
     "output_type": "stream",
     "name": "stdout",
     "text": [
      "  Destinations  Feed_back   Hotel_Rating  All_Inclusive Visited_City \n",
      "3        Italy           7             5              7          Rome\n",
      "4      Belgium           4             3              9      Brussels\n",
      "5      Croatia          10             5              3     Dubrovnik\n",
      "6       Russia           6             3              8        Moscow\n",
      "7     Portugal           3             2              4        Lisbon\n"
     ]
    }
   ],
   "metadata": {}
  },
  {
   "cell_type": "code",
   "execution_count": 92,
   "source": [
    "#find the mean number of all-inclusive hotels across all destinations\r\n",
    "\r\n",
    "import pandas as pd \r\n",
    "holiday_destination = pd.read_csv(\"holiday_destination1.csv\")\r\n",
    "holiday_destination[\"All_Inclusive\"].mean()"
   ],
   "outputs": [
    {
     "output_type": "execute_result",
     "data": {
      "text/plain": [
       "7.466666666666667"
      ]
     },
     "metadata": {},
     "execution_count": 92
    }
   ],
   "metadata": {}
  },
  {
   "cell_type": "code",
   "execution_count": 93,
   "source": [
    "#find the mean number of all-inclusive hotels across all destinations - EXTENDED THE TASK TO FIND THE MEAN FOR FEEDBACK, HOTEL RATING AND ALL INCLUSIVE \r\n",
    "\r\n",
    "import pandas as pd \r\n",
    "\r\n",
    "holiday_destination = pd.read_csv(\"holiday_destination1.csv\")\r\n",
    "holiday_destination.mean()"
   ],
   "outputs": [
    {
     "output_type": "stream",
     "name": "stderr",
     "text": [
      "<ipython-input-93-a027ae9890be>:6: FutureWarning: Dropping of nuisance columns in DataFrame reductions (with 'numeric_only=None') is deprecated; in a future version this will raise TypeError.  Select only valid columns before calling the reduction.\n",
      "  holiday_destination.mean()\n"
     ]
    },
    {
     "output_type": "execute_result",
     "data": {
      "text/plain": [
       "Feed_back        6.466667\n",
       "Hotel_Rating     3.533333\n",
       "All_Inclusive    7.466667\n",
       "dtype: float64"
      ]
     },
     "metadata": {},
     "execution_count": 93
    }
   ],
   "metadata": {}
  },
  {
   "cell_type": "code",
   "execution_count": 85,
   "source": [
    "#find the lowest scoring destination \r\n",
    "import pandas as pd \r\n",
    "\r\n",
    "holiday_destination = pd.read_csv(\"holiday_destination1.csv\")\r\n",
    "\r\n",
    "holiday_destination[\"sum\"] = holiday_destination. sum(axis=1)\r\n",
    "print(holiday_destination)\r\n",
    "print(holiday_destination.iloc[9])"
   ],
   "outputs": [
    {
     "output_type": "stream",
     "name": "stdout",
     "text": [
      "   Destinations  Feed_back   Hotel_Rating  All_Inclusive Visited_City   sum\n",
      "0        France           7             4              1         Paris   12\n",
      "1         Spain           8             2             11        Madrid   21\n",
      "2       Germany           6             3             12        Berlin   21\n",
      "3         Italy           7             5              7          Rome   19\n",
      "4       Belgium           4             3              9      Brussels   16\n",
      "5       Croatia          10             5              3     Dubrovnik   18\n",
      "6        Russia           6             3              8        Moscow   17\n",
      "7      Portugal           3             2              4        Lisbon    9\n",
      "8       Austria           9             5             15        Vienna   29\n",
      "9   Netherlands           1             2              3     Amsterdam    6\n",
      "10      Denmark           6             4              9    Copenhagen   19\n",
      "11       Poland           9             3              1        Warsaw   13\n",
      "12      Hungary          10             5              2      Budapest   17\n",
      "13     Slovakia           6             3             16    Bratislava   25\n",
      "14       Turkey           5             4             11      Istanbul   20\n",
      "Destinations     Netherlands\n",
      "Feed_back                  1\n",
      "Hotel_Rating               2\n",
      "All_Inclusive              3\n",
      "Visited_City       Amsterdam\n",
      "sum                        6\n",
      "Name: 9, dtype: object\n"
     ]
    },
    {
     "output_type": "stream",
     "name": "stderr",
     "text": [
      "<ipython-input-85-346a4872b1d3>:6: FutureWarning: Dropping of nuisance columns in DataFrame reductions (with 'numeric_only=None') is deprecated; in a future version this will raise TypeError.  Select only valid columns before calling the reduction.\n",
      "  holiday_destination[\"sum\"] = holiday_destination. sum(axis=1)\n"
     ]
    }
   ],
   "metadata": {}
  },
  {
   "cell_type": "code",
   "execution_count": 87,
   "source": [
    "#Find the highest scoring destination\r\n",
    "import pandas as pd \r\n",
    "\r\n",
    "holiday_destination = pd.read_csv(\"holiday_destination1.csv\")\r\n",
    "\r\n",
    "holiday_destination[\"sum\"] = holiday_destination. sum(axis=1)\r\n",
    "print(holiday_destination)\r\n",
    "print(holiday_destination.iloc[8])\r\n"
   ],
   "outputs": [
    {
     "output_type": "stream",
     "name": "stdout",
     "text": [
      "   Destinations  Feed_back   Hotel_Rating  All_Inclusive Visited_City   sum\n",
      "0        France           7             4              1         Paris   12\n",
      "1         Spain           8             2             11        Madrid   21\n",
      "2       Germany           6             3             12        Berlin   21\n",
      "3         Italy           7             5              7          Rome   19\n",
      "4       Belgium           4             3              9      Brussels   16\n",
      "5       Croatia          10             5              3     Dubrovnik   18\n",
      "6        Russia           6             3              8        Moscow   17\n",
      "7      Portugal           3             2              4        Lisbon    9\n",
      "8       Austria           9             5             15        Vienna   29\n",
      "9   Netherlands           1             2              3     Amsterdam    6\n",
      "10      Denmark           6             4              9    Copenhagen   19\n",
      "11       Poland           9             3              1        Warsaw   13\n",
      "12      Hungary          10             5              2      Budapest   17\n",
      "13     Slovakia           6             3             16    Bratislava   25\n",
      "14       Turkey           5             4             11      Istanbul   20\n",
      "Destinations     Austria\n",
      "Feed_back              9\n",
      "Hotel_Rating           5\n",
      "All_Inclusive         15\n",
      "Visited_City      Vienna\n",
      "sum                   29\n",
      "Name: 8, dtype: object\n"
     ]
    },
    {
     "output_type": "stream",
     "name": "stderr",
     "text": [
      "<ipython-input-87-d89ece553f49>:6: FutureWarning: Dropping of nuisance columns in DataFrame reductions (with 'numeric_only=None') is deprecated; in a future version this will raise TypeError.  Select only valid columns before calling the reduction.\n",
      "  holiday_destination[\"sum\"] = holiday_destination. sum(axis=1)\n"
     ]
    }
   ],
   "metadata": {}
  },
  {
   "cell_type": "code",
   "execution_count": 95,
   "source": [
    "#Find all the destinations where there are more than 9 all-inclusive destinations \r\n",
    "\r\n",
    "import pandas as pd \r\n",
    "\r\n",
    "holiday_destination = pd.read_csv(\"holiday_destination1.csv\")\r\n",
    "myfilter = holiday_destination[\"All_Inclusive\"] > 9\r\n",
    "\r\n",
    "myfilter\r\n",
    "\r\n",
    "holiday_destination1 = holiday_destination[myfilter]\r\n",
    "\r\n",
    "holiday_destination1.head(15)"
   ],
   "outputs": [
    {
     "output_type": "execute_result",
     "data": {
      "text/plain": [
       "   Destinations  Feed_back   Hotel_Rating  All_Inclusive Visited_City \n",
       "1         Spain           8             2             11        Madrid\n",
       "2       Germany           6             3             12        Berlin\n",
       "8       Austria           9             5             15        Vienna\n",
       "13     Slovakia           6             3             16    Bratislava\n",
       "14       Turkey           5             4             11      Istanbul"
      ],
      "text/html": [
       "<div>\n",
       "<style scoped>\n",
       "    .dataframe tbody tr th:only-of-type {\n",
       "        vertical-align: middle;\n",
       "    }\n",
       "\n",
       "    .dataframe tbody tr th {\n",
       "        vertical-align: top;\n",
       "    }\n",
       "\n",
       "    .dataframe thead th {\n",
       "        text-align: right;\n",
       "    }\n",
       "</style>\n",
       "<table border=\"1\" class=\"dataframe\">\n",
       "  <thead>\n",
       "    <tr style=\"text-align: right;\">\n",
       "      <th></th>\n",
       "      <th>Destinations</th>\n",
       "      <th>Feed_back</th>\n",
       "      <th>Hotel_Rating</th>\n",
       "      <th>All_Inclusive</th>\n",
       "      <th>Visited_City</th>\n",
       "    </tr>\n",
       "  </thead>\n",
       "  <tbody>\n",
       "    <tr>\n",
       "      <th>1</th>\n",
       "      <td>Spain</td>\n",
       "      <td>8</td>\n",
       "      <td>2</td>\n",
       "      <td>11</td>\n",
       "      <td>Madrid</td>\n",
       "    </tr>\n",
       "    <tr>\n",
       "      <th>2</th>\n",
       "      <td>Germany</td>\n",
       "      <td>6</td>\n",
       "      <td>3</td>\n",
       "      <td>12</td>\n",
       "      <td>Berlin</td>\n",
       "    </tr>\n",
       "    <tr>\n",
       "      <th>8</th>\n",
       "      <td>Austria</td>\n",
       "      <td>9</td>\n",
       "      <td>5</td>\n",
       "      <td>15</td>\n",
       "      <td>Vienna</td>\n",
       "    </tr>\n",
       "    <tr>\n",
       "      <th>13</th>\n",
       "      <td>Slovakia</td>\n",
       "      <td>6</td>\n",
       "      <td>3</td>\n",
       "      <td>16</td>\n",
       "      <td>Bratislava</td>\n",
       "    </tr>\n",
       "    <tr>\n",
       "      <th>14</th>\n",
       "      <td>Turkey</td>\n",
       "      <td>5</td>\n",
       "      <td>4</td>\n",
       "      <td>11</td>\n",
       "      <td>Istanbul</td>\n",
       "    </tr>\n",
       "  </tbody>\n",
       "</table>\n",
       "</div>"
      ]
     },
     "metadata": {},
     "execution_count": 95
    }
   ],
   "metadata": {}
  },
  {
   "cell_type": "code",
   "execution_count": 99,
   "source": [
    "#Filter the data by score above 8\r\n",
    "\r\n",
    "import pandas as pd \r\n",
    "\r\n",
    "holiday_destination = pd.read_csv(\"holiday_destination1.csv\")\r\n",
    "\r\n",
    "holiday_destination[\"sum\"] = holiday_destination. sum(axis=1)\r\n",
    "\r\n",
    "myfilter = holiday_destination[\"sum\"] > 8\r\n",
    "myfilter\r\n",
    "holiday_destination1 = holiday_destination[myfilter]\r\n",
    "holiday_destination1.head(15)"
   ],
   "outputs": [
    {
     "output_type": "stream",
     "name": "stderr",
     "text": [
      "<ipython-input-99-d3ca3df61a6c>:7: FutureWarning: Dropping of nuisance columns in DataFrame reductions (with 'numeric_only=None') is deprecated; in a future version this will raise TypeError.  Select only valid columns before calling the reduction.\n",
      "  holiday_destination[\"sum\"] = holiday_destination. sum(axis=1)\n"
     ]
    },
    {
     "output_type": "execute_result",
     "data": {
      "text/plain": [
       "   Destinations  Feed_back   Hotel_Rating  All_Inclusive Visited_City   sum\n",
       "0        France           7             4              1         Paris   12\n",
       "1         Spain           8             2             11        Madrid   21\n",
       "2       Germany           6             3             12        Berlin   21\n",
       "3         Italy           7             5              7          Rome   19\n",
       "4       Belgium           4             3              9      Brussels   16\n",
       "5       Croatia          10             5              3     Dubrovnik   18\n",
       "6        Russia           6             3              8        Moscow   17\n",
       "7      Portugal           3             2              4        Lisbon    9\n",
       "8       Austria           9             5             15        Vienna   29\n",
       "10      Denmark           6             4              9    Copenhagen   19\n",
       "11       Poland           9             3              1        Warsaw   13\n",
       "12      Hungary          10             5              2      Budapest   17\n",
       "13     Slovakia           6             3             16    Bratislava   25\n",
       "14       Turkey           5             4             11      Istanbul   20"
      ],
      "text/html": [
       "<div>\n",
       "<style scoped>\n",
       "    .dataframe tbody tr th:only-of-type {\n",
       "        vertical-align: middle;\n",
       "    }\n",
       "\n",
       "    .dataframe tbody tr th {\n",
       "        vertical-align: top;\n",
       "    }\n",
       "\n",
       "    .dataframe thead th {\n",
       "        text-align: right;\n",
       "    }\n",
       "</style>\n",
       "<table border=\"1\" class=\"dataframe\">\n",
       "  <thead>\n",
       "    <tr style=\"text-align: right;\">\n",
       "      <th></th>\n",
       "      <th>Destinations</th>\n",
       "      <th>Feed_back</th>\n",
       "      <th>Hotel_Rating</th>\n",
       "      <th>All_Inclusive</th>\n",
       "      <th>Visited_City</th>\n",
       "      <th>sum</th>\n",
       "    </tr>\n",
       "  </thead>\n",
       "  <tbody>\n",
       "    <tr>\n",
       "      <th>0</th>\n",
       "      <td>France</td>\n",
       "      <td>7</td>\n",
       "      <td>4</td>\n",
       "      <td>1</td>\n",
       "      <td>Paris</td>\n",
       "      <td>12</td>\n",
       "    </tr>\n",
       "    <tr>\n",
       "      <th>1</th>\n",
       "      <td>Spain</td>\n",
       "      <td>8</td>\n",
       "      <td>2</td>\n",
       "      <td>11</td>\n",
       "      <td>Madrid</td>\n",
       "      <td>21</td>\n",
       "    </tr>\n",
       "    <tr>\n",
       "      <th>2</th>\n",
       "      <td>Germany</td>\n",
       "      <td>6</td>\n",
       "      <td>3</td>\n",
       "      <td>12</td>\n",
       "      <td>Berlin</td>\n",
       "      <td>21</td>\n",
       "    </tr>\n",
       "    <tr>\n",
       "      <th>3</th>\n",
       "      <td>Italy</td>\n",
       "      <td>7</td>\n",
       "      <td>5</td>\n",
       "      <td>7</td>\n",
       "      <td>Rome</td>\n",
       "      <td>19</td>\n",
       "    </tr>\n",
       "    <tr>\n",
       "      <th>4</th>\n",
       "      <td>Belgium</td>\n",
       "      <td>4</td>\n",
       "      <td>3</td>\n",
       "      <td>9</td>\n",
       "      <td>Brussels</td>\n",
       "      <td>16</td>\n",
       "    </tr>\n",
       "    <tr>\n",
       "      <th>5</th>\n",
       "      <td>Croatia</td>\n",
       "      <td>10</td>\n",
       "      <td>5</td>\n",
       "      <td>3</td>\n",
       "      <td>Dubrovnik</td>\n",
       "      <td>18</td>\n",
       "    </tr>\n",
       "    <tr>\n",
       "      <th>6</th>\n",
       "      <td>Russia</td>\n",
       "      <td>6</td>\n",
       "      <td>3</td>\n",
       "      <td>8</td>\n",
       "      <td>Moscow</td>\n",
       "      <td>17</td>\n",
       "    </tr>\n",
       "    <tr>\n",
       "      <th>7</th>\n",
       "      <td>Portugal</td>\n",
       "      <td>3</td>\n",
       "      <td>2</td>\n",
       "      <td>4</td>\n",
       "      <td>Lisbon</td>\n",
       "      <td>9</td>\n",
       "    </tr>\n",
       "    <tr>\n",
       "      <th>8</th>\n",
       "      <td>Austria</td>\n",
       "      <td>9</td>\n",
       "      <td>5</td>\n",
       "      <td>15</td>\n",
       "      <td>Vienna</td>\n",
       "      <td>29</td>\n",
       "    </tr>\n",
       "    <tr>\n",
       "      <th>10</th>\n",
       "      <td>Denmark</td>\n",
       "      <td>6</td>\n",
       "      <td>4</td>\n",
       "      <td>9</td>\n",
       "      <td>Copenhagen</td>\n",
       "      <td>19</td>\n",
       "    </tr>\n",
       "    <tr>\n",
       "      <th>11</th>\n",
       "      <td>Poland</td>\n",
       "      <td>9</td>\n",
       "      <td>3</td>\n",
       "      <td>1</td>\n",
       "      <td>Warsaw</td>\n",
       "      <td>13</td>\n",
       "    </tr>\n",
       "    <tr>\n",
       "      <th>12</th>\n",
       "      <td>Hungary</td>\n",
       "      <td>10</td>\n",
       "      <td>5</td>\n",
       "      <td>2</td>\n",
       "      <td>Budapest</td>\n",
       "      <td>17</td>\n",
       "    </tr>\n",
       "    <tr>\n",
       "      <th>13</th>\n",
       "      <td>Slovakia</td>\n",
       "      <td>6</td>\n",
       "      <td>3</td>\n",
       "      <td>16</td>\n",
       "      <td>Bratislava</td>\n",
       "      <td>25</td>\n",
       "    </tr>\n",
       "    <tr>\n",
       "      <th>14</th>\n",
       "      <td>Turkey</td>\n",
       "      <td>5</td>\n",
       "      <td>4</td>\n",
       "      <td>11</td>\n",
       "      <td>Istanbul</td>\n",
       "      <td>20</td>\n",
       "    </tr>\n",
       "  </tbody>\n",
       "</table>\n",
       "</div>"
      ]
     },
     "metadata": {},
     "execution_count": 99
    }
   ],
   "metadata": {}
  },
  {
   "cell_type": "code",
   "execution_count": 100,
   "source": [
    "#Filter the score below 2\r\n",
    "\r\n",
    "import pandas as pd \r\n",
    "\r\n",
    "holiday_destination = pd.read_csv(\"holiday_destination1.csv\")\r\n",
    "\r\n",
    "holiday_destination[\"sum\"] = holiday_destination. sum(axis=1)\r\n",
    "\r\n",
    "myfilter = holiday_destination[\"sum\"] < 2\r\n",
    "myfilter\r\n",
    "holiday_destination1 = holiday_destination[myfilter]\r\n",
    "holiday_destination1.head(15)"
   ],
   "outputs": [
    {
     "output_type": "stream",
     "name": "stderr",
     "text": [
      "<ipython-input-100-efa7b1f59c90>:7: FutureWarning: Dropping of nuisance columns in DataFrame reductions (with 'numeric_only=None') is deprecated; in a future version this will raise TypeError.  Select only valid columns before calling the reduction.\n",
      "  holiday_destination[\"sum\"] = holiday_destination. sum(axis=1)\n"
     ]
    },
    {
     "output_type": "execute_result",
     "data": {
      "text/plain": [
       "Empty DataFrame\n",
       "Columns: [Destinations, Feed_back , Hotel_Rating, All_Inclusive, Visited_City , sum]\n",
       "Index: []"
      ],
      "text/html": [
       "<div>\n",
       "<style scoped>\n",
       "    .dataframe tbody tr th:only-of-type {\n",
       "        vertical-align: middle;\n",
       "    }\n",
       "\n",
       "    .dataframe tbody tr th {\n",
       "        vertical-align: top;\n",
       "    }\n",
       "\n",
       "    .dataframe thead th {\n",
       "        text-align: right;\n",
       "    }\n",
       "</style>\n",
       "<table border=\"1\" class=\"dataframe\">\n",
       "  <thead>\n",
       "    <tr style=\"text-align: right;\">\n",
       "      <th></th>\n",
       "      <th>Destinations</th>\n",
       "      <th>Feed_back</th>\n",
       "      <th>Hotel_Rating</th>\n",
       "      <th>All_Inclusive</th>\n",
       "      <th>Visited_City</th>\n",
       "      <th>sum</th>\n",
       "    </tr>\n",
       "  </thead>\n",
       "  <tbody>\n",
       "  </tbody>\n",
       "</table>\n",
       "</div>"
      ]
     },
     "metadata": {},
     "execution_count": 100
    }
   ],
   "metadata": {}
  },
  {
   "cell_type": "code",
   "execution_count": 4,
   "source": [
    "#Is there a correlation between number of all-inclusive hotels and score?\r\n",
    "\r\n",
    "import pandas as pd \r\n",
    "\r\n",
    "destinations = {\"Destinations\": [\"France\", \"Spain\", \"Germany\", \"Italy\", \"Belgium\", \"Croatia\", \"Russia\", \"Portugal\", \"Austria\", \"Netherlands\", \"Denmark\", \"Poland\", \"Hungary\", \"Slovakia\", \"Turkey\"],\r\n",
    "\"Feedback\": [7, 8, 6, 7, 4, 10, 6, 3, 9, 1, 6, 9, 10, 6, 5],\r\n",
    "\"Average Rating\": [4, 2, 3, 5, 3, 5, 3, 2, 5, 2, 4, 3, 5, 3, 4],\r\n",
    "\"All Inclusive\": [1, 11, 12, 7, 9, 3, 8, 4, 15, 3, 9, 1, 2, 16, 11],\r\n",
    "\"Most Visited City\": [\"Paris\", \"Madrid\", \"Berlin\", \"Rome\", \"Brussels\", \"Dubrovnik\", \"Moscow\", \"Lisbon\", \"Vienna\", \"Amsterdam\", \"Copenhagen\", \"Warsaw\", \"Budapest\", \"Bratislava\", \"Istanbul\"]}\r\n",
    "\r\n",
    "myframe = pd.DataFrame(destinations)\r\n",
    "\r\n",
    "myframe.corr()"
   ],
   "outputs": [
    {
     "output_type": "execute_result",
     "data": {
      "text/plain": [
       "                Feedback  Average Rating  All Inclusive\n",
       "Feedback        1.000000        0.651248      -0.057649\n",
       "Average Rating  0.651248        1.000000      -0.034908\n",
       "All Inclusive  -0.057649       -0.034908       1.000000"
      ],
      "text/html": [
       "<div>\n",
       "<style scoped>\n",
       "    .dataframe tbody tr th:only-of-type {\n",
       "        vertical-align: middle;\n",
       "    }\n",
       "\n",
       "    .dataframe tbody tr th {\n",
       "        vertical-align: top;\n",
       "    }\n",
       "\n",
       "    .dataframe thead th {\n",
       "        text-align: right;\n",
       "    }\n",
       "</style>\n",
       "<table border=\"1\" class=\"dataframe\">\n",
       "  <thead>\n",
       "    <tr style=\"text-align: right;\">\n",
       "      <th></th>\n",
       "      <th>Feedback</th>\n",
       "      <th>Average Rating</th>\n",
       "      <th>All Inclusive</th>\n",
       "    </tr>\n",
       "  </thead>\n",
       "  <tbody>\n",
       "    <tr>\n",
       "      <th>Feedback</th>\n",
       "      <td>1.000000</td>\n",
       "      <td>0.651248</td>\n",
       "      <td>-0.057649</td>\n",
       "    </tr>\n",
       "    <tr>\n",
       "      <th>Average Rating</th>\n",
       "      <td>0.651248</td>\n",
       "      <td>1.000000</td>\n",
       "      <td>-0.034908</td>\n",
       "    </tr>\n",
       "    <tr>\n",
       "      <th>All Inclusive</th>\n",
       "      <td>-0.057649</td>\n",
       "      <td>-0.034908</td>\n",
       "      <td>1.000000</td>\n",
       "    </tr>\n",
       "  </tbody>\n",
       "</table>\n",
       "</div>"
      ]
     },
     "metadata": {},
     "execution_count": 4
    }
   ],
   "metadata": {}
  },
  {
   "cell_type": "code",
   "execution_count": 79,
   "source": [
    "#Create a data visualisation diagram to show destination and highest scores\r\n",
    "\r\n",
    "import pandas as pd\r\n",
    "\r\n",
    "import matplotlib.pyplot as plt\r\n",
    "\r\n",
    "dataframe = pd.read_csv(\"holiday_destination.csv\", index_col=0)\r\n",
    "\r\n",
    "fig, ax = plt.subplots()\r\n",
    "ax.bar(dataframe.index, dataframe[\"sum_1\"])\r\n",
    "ax.set_xticklabels(dataframe.index, rotation=90)\r\n",
    "ax.set_title(\"Top Scoring Holiday Destinations\")\r\n",
    "ax.set_ylabel(\"Total Score\")\r\n",
    "ax.set_xlabel(\"Destinations\")\r\n",
    "plt.show()"
   ],
   "outputs": [
    {
     "output_type": "stream",
     "name": "stderr",
     "text": [
      "<ipython-input-79-5143c3c42145>:9: UserWarning: FixedFormatter should only be used together with FixedLocator\n",
      "  ax.set_xticklabels(dataframe.index, rotation=90)\n"
     ]
    },
    {
     "output_type": "display_data",
     "data": {
      "text/plain": [
       "<Figure size 432x288 with 1 Axes>"
      ],
      "image/png": "[encoded data removed]"
     },
     "metadata": {
      "needs_background": "light"
     }
    }
   ],
   "metadata": {}
  }
 ]
}