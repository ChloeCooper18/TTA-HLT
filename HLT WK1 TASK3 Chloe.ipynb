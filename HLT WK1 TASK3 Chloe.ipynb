{
 "metadata": {
  "language_info": {
   "codemirror_mode": {
    "name": "ipython",
    "version": 3
   },
   "file_extension": ".py",
   "mimetype": "text/x-python",
   "name": "python",
   "nbconvert_exporter": "python",
   "pygments_lexer": "ipython3",
   "version": "3.9.5"
  },
  "orig_nbformat": 4,
  "kernelspec": {
   "name": "python3",
   "display_name": "Python 3.9.5 64-bit"
  },
  "interpreter": {
   "hash": "6cddd68f27a12e254e9db4a57d6c5fe81b25675a2dbc6183357214ba002192ac"
  }
 },
 "nbformat": 4,
 "nbformat_minor": 2,
 "cells": [
  {
   "cell_type": "code",
   "execution_count": 13,
   "metadata": {},
   "outputs": [
    {
     "output_type": "stream",
     "name": "stdout",
     "text": [
      "Your favourite meal is bread and olives followed by steak and chips followed by sticky toffee pudding with a glass of coke\n"
     ]
    }
   ],
   "source": [
    "#concatenate \n",
    "\n",
    "my_stringsta = input(\"Hello, what is your favourite starter?\")\n",
    "my_stringmai = input(\"What is your favourite main?\")\n",
    "my_stringdes = input(\"What is your favourite dessert?\")\n",
    "my_stringdri = input(\"What is your favourite drink?\")\n",
    "\n",
    "print(\"Your favourite meal is\", my_stringsta+ \" followed by \" +my_stringmai+ \" followed by \" +my_stringdes+ \" with a glass of \" +my_stringdri)\n",
    "\n"
   ]
  }
 ]
}