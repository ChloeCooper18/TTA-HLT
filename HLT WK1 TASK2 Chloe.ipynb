{
 "metadata": {
  "language_info": {
   "codemirror_mode": {
    "name": "ipython",
    "version": 3
   },
   "file_extension": ".py",
   "mimetype": "text/x-python",
   "name": "python",
   "nbconvert_exporter": "python",
   "pygments_lexer": "ipython3",
   "version": "3.9.5"
  },
  "orig_nbformat": 4,
  "kernelspec": {
   "name": "python3",
   "display_name": "Python 3.9.5 64-bit"
  },
  "interpreter": {
   "hash": "6cddd68f27a12e254e9db4a57d6c5fe81b25675a2dbc6183357214ba002192ac"
  }
 },
 "nbformat": 4,
 "nbformat_minor": 2,
 "cells": [
  {
   "cell_type": "code",
   "execution_count": 7,
   "metadata": {},
   "outputs": [
    {
     "output_type": "stream",
     "name": "stdout",
     "text": [
      "Hello! I would like to tell you a joke! Enter your favourite number between 1 and 100 and I will tell you a joke!\n",
      "What kind of tree fits in your hand?......A PALM TREE!\n"
     ]
    }
   ],
   "source": [
    "#if and in range\n",
    "\n",
    "print(\"Hello! I would like to tell you a joke! Enter your favourite number between 1 and 100 and I will tell you a joke!\")\n",
    "\n",
    "input_number = int(input(\"Enter your favourite number between 1 and 100\"))\n",
    "\n",
    "if int(input_number) in range(1,25):\n",
    "    print(\"If a boomerang doesn't come back what is it?........A STICK!\")\n",
    "elif int(input_number) in range(26,50):\n",
    "    print(\"What kind of tree fits in your hand?......A PALM TREE!\")\n",
    "elif int(input_number) in range(51,75):\n",
    "    print(\"What is a cow's favourite holiday?.....MOO YEARS EVE!\")\n",
    "elif int(input_number) in range(76,101):\n",
    "    print(\"What did the ocean say to the pirate?.....NOTHING IT JUST WAVED!\")\n"
   ]
  }
 ]
}