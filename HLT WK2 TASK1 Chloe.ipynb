{
 "metadata": {
  "language_info": {
   "codemirror_mode": {
    "name": "ipython",
    "version": 3
   },
   "file_extension": ".py",
   "mimetype": "text/x-python",
   "name": "python",
   "nbconvert_exporter": "python",
   "pygments_lexer": "ipython3",
   "version": "3.9.5"
  },
  "orig_nbformat": 4,
  "kernelspec": {
   "name": "python3",
   "display_name": "Python 3.9.5 64-bit"
  },
  "interpreter": {
   "hash": "6cddd68f27a12e254e9db4a57d6c5fe81b25675a2dbc6183357214ba002192ac"
  }
 },
 "nbformat": 4,
 "nbformat_minor": 2,
 "cells": [
  {
   "cell_type": "code",
   "execution_count": 1,
   "metadata": {},
   "outputs": [
    {
     "output_type": "stream",
     "name": "stdout",
     "text": [
      "You would like to book a table - please answer the following questions\n",
      "You have booked a window seat\n",
      "Drinks will be served at your table\n",
      "Unfortunately there are no other tables availble\n"
     ]
    }
   ],
   "source": [
    "print(\"You would like to book a table - please answer the following questions\")\n",
    "\n",
    "table = input(\"Please enter yes or no: Would you like a window seat?\")\n",
    "if table == \"yes\": print(\"You have booked a window seat\")\n",
    "\n",
    "table2 = input(\"Please enter yes or no: Would you like drinks served at your table\")\n",
    "if table2 == \"yes\": print(\"Drinks will be served at your table\")\n",
    "\n",
    "table3 = input(\"Please enter yes or no: The only table we have available is 7pm. Is this suitable?\")\n",
    "if table3 == \"yes\": print(\"Excellent, your table has been booked for 7pm\")\n",
    "else: print(\"Unfortunately there are no other tables availble\")\n"
   ]
  }
 ]
}