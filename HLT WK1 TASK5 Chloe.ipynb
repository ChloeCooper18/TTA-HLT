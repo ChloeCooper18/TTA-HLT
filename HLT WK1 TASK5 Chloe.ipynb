{
 "metadata": {
  "language_info": {
   "codemirror_mode": {
    "name": "ipython",
    "version": 3
   },
   "file_extension": ".py",
   "mimetype": "text/x-python",
   "name": "python",
   "nbconvert_exporter": "python",
   "pygments_lexer": "ipython3",
   "version": "3.9.5"
  },
  "orig_nbformat": 4,
  "kernelspec": {
   "name": "python3",
   "display_name": "Python 3.9.5 64-bit"
  },
  "interpreter": {
   "hash": "6cddd68f27a12e254e9db4a57d6c5fe81b25675a2dbc6183357214ba002192ac"
  }
 },
 "nbformat": 4,
 "nbformat_minor": 2,
 "cells": [
  {
   "cell_type": "code",
   "execution_count": 47,
   "metadata": {},
   "outputs": [
    {
     "output_type": "stream",
     "name": "stdout",
     "text": [
      "Hi there, please enter your first number\n",
      "You have chosen 4 as your first number\n",
      "Please enter a second number\n",
      "You have chosen 4 as your second number\n",
      "Your chosen numbers are 4 and 4\n",
      "Please choose a number from the list below to perform the operation on your two chosen numbers!\n",
      "[1] Add\n",
      "[2] Subtract\n",
      "[3] Divide\n",
      "[4] Multiply\n",
      "[5] Square\n",
      "16\n"
     ]
    }
   ],
   "source": [
    "#perform calculation\n",
    "\n",
    "print(\"Hi there, please enter your first number\")\n",
    "\n",
    "input_number1 = int(input(\"Hi, please enter a number\"))\n",
    "\n",
    "print(\"You have chosen\", input_number1, \"as your first number\")\n",
    "\n",
    "print(\"Please enter a second number\")\n",
    "\n",
    "input_number2 = int(input(\"Please enter another number\"))\n",
    "\n",
    "print(\"You have chosen\", input_number2, \"as your second number\")\n",
    "\n",
    "print(\"Your chosen numbers are\", input_number1, \"and\", input_number2)\n",
    "\n",
    "print(\"Please choose a number from the list below to perform the operation on your two chosen numbers!\")\n",
    "\n",
    "def menu():\n",
    "    print(\"[1] Add\")\n",
    "    print(\"[2] Subtract\")\n",
    "    print(\"[3] Divide\")\n",
    "    print(\"[4] Multiply\")\n",
    "    print(\"[5] Square\")\n",
    "menu()\n",
    "option = int(input(\"please choose an option\"))\n",
    "\n",
    "if option == 1:\n",
    "    print(input_number1 + input_number2)\n",
    "elif option == 2:\n",
    "    print(input_number1 - input_number2)\n",
    "elif option == 3:\n",
    "    print(input_number1 / input_number2)\n",
    "elif option == 4:\n",
    "    print(input_number1 * input_number2)\n",
    "elif option == 5:\n",
    "    print(input_number1 ** input_number2)\n"
   ]
  }
 ]
}