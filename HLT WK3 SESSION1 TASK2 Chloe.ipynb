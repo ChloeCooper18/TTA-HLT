{
 "metadata": {
  "language_info": {
   "codemirror_mode": {
    "name": "ipython",
    "version": 3
   },
   "file_extension": ".py",
   "mimetype": "text/x-python",
   "name": "python",
   "nbconvert_exporter": "python",
   "pygments_lexer": "ipython3",
   "version": "3.9.5"
  },
  "orig_nbformat": 4,
  "kernelspec": {
   "name": "python3",
   "display_name": "Python 3.9.5 64-bit"
  },
  "interpreter": {
   "hash": "6cddd68f27a12e254e9db4a57d6c5fe81b25675a2dbc6183357214ba002192ac"
  }
 },
 "nbformat": 4,
 "nbformat_minor": 2,
 "cells": [
  {
   "cell_type": "code",
   "execution_count": 7,
   "metadata": {},
   "outputs": [
    {
     "output_type": "stream",
     "name": "stdout",
     "text": [
      "Your grade is a C\n"
     ]
    }
   ],
   "source": [
    "user_input = int(input(\"Hi there, please input your percentage mark\"))\n",
    "\n",
    "def mark_grade():\n",
    "    if (user_input > 0) and (user_input < 20):\n",
    "        print(\"Your grade is a F\")\n",
    "    elif (user_input > 20) and (user_input < 40):\n",
    "        print(\"Your grade is a D\")\n",
    "    elif(user_input > 40) and (user_input < 60):\n",
    "        print(\"Your grade is a C\")\n",
    "    elif (user_input > 60) and (user_input < 80):\n",
    "        print(\"Your grade is a B\")\n",
    "    elif (user_input > 80) and (user_input < 100):\n",
    "        print(\"Your grade is a A\")\n",
    "    else: print(\"incorrect input\")\n",
    "\n",
    "mark_grade()"
   ]
  }
 ]
}