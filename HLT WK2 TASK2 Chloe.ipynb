{
 "metadata": {
  "language_info": {
   "codemirror_mode": {
    "name": "ipython",
    "version": 3
   },
   "file_extension": ".py",
   "mimetype": "text/x-python",
   "name": "python",
   "nbconvert_exporter": "python",
   "pygments_lexer": "ipython3",
   "version": "3.9.5"
  },
  "orig_nbformat": 4,
  "kernelspec": {
   "name": "python3",
   "display_name": "Python 3.9.5 64-bit"
  },
  "interpreter": {
   "hash": "6cddd68f27a12e254e9db4a57d6c5fe81b25675a2dbc6183357214ba002192ac"
  }
 },
 "nbformat": 4,
 "nbformat_minor": 2,
 "cells": [
  {
   "cell_type": "code",
   "execution_count": 14,
   "metadata": {},
   "outputs": [
    {
     "output_type": "stream",
     "name": "stdout",
     "text": [
      "1800.0\n1620.0\n1458.0\n1312.2\n1180.98\n1062.882\n956.5938000000001\n"
     ]
    }
   ],
   "source": [
    "\n",
    "def function():\n",
    "    cost = 2000\n",
    "    while cost > 1000:\n",
    "        cost = cost - (cost * 0.1)\n",
    "        print(cost)\n",
    "\n",
    "function()\n"
   ]
  }
 ]
}